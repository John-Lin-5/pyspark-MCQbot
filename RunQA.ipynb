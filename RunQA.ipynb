{
  "nbformat": 4,
  "nbformat_minor": 0,
  "metadata": {
    "colab": {
      "provenance": [],
      "machine_shape": "hm"
    },
    "kernelspec": {
      "name": "python3",
      "display_name": "Python 3"
    }
  },
  "cells": [
    {
      "cell_type": "markdown",
      "metadata": {
        "id": "Wd-2ZJjoJaNU"
      },
      "source": []
    },
    {
      "cell_type": "code",
      "source": [
        "from google.colab import drive\n",
        "drive.mount('/content/drive', force_remount=True)"
      ],
      "metadata": {
        "colab": {
          "base_uri": "https://localhost:8080/"
        },
        "id": "t2M3NRZZlSZV",
        "outputId": "4c935c38-d439-4a1f-d347-7c2ddec69bc4"
      },
      "execution_count": 1,
      "outputs": [
        {
          "output_type": "stream",
          "name": "stdout",
          "text": [
            "Mounted at /content/drive\n"
          ]
        }
      ]
    },
    {
      "cell_type": "code",
      "source": [
        "!pip install ijson"
      ],
      "metadata": {
        "id": "uDRl6Rb_lW_P",
        "colab": {
          "base_uri": "https://localhost:8080/"
        },
        "outputId": "37d22079-a070-4b58-c1da-18b423e60987"
      },
      "execution_count": 2,
      "outputs": [
        {
          "output_type": "stream",
          "name": "stdout",
          "text": [
            "Looking in indexes: https://pypi.org/simple, https://us-python.pkg.dev/colab-wheels/public/simple/\n",
            "Collecting ijson\n",
            "  Downloading ijson-3.2.0.post0-cp39-cp39-manylinux_2_17_x86_64.manylinux2014_x86_64.whl (112 kB)\n",
            "\u001b[2K     \u001b[90m━━━━━━━━━━━━━━━━━━━━━━━━━━━━━━━━━━━━━━━\u001b[0m \u001b[32m112.5/112.5 KB\u001b[0m \u001b[31m4.4 MB/s\u001b[0m eta \u001b[36m0:00:00\u001b[0m\n",
            "\u001b[?25hInstalling collected packages: ijson\n",
            "Successfully installed ijson-3.2.0.post0\n"
          ]
        }
      ]
    },
    {
      "cell_type": "code",
      "source": [
        "import ijson"
      ],
      "metadata": {
        "id": "fZI51b3DlYVn"
      },
      "execution_count": 3,
      "outputs": []
    },
    {
      "cell_type": "code",
      "source": [
        "All_Inv_DICT={str(i):dict() for i in range(1,10)}\n",
        "#print(All_Inv_DICT)\n",
        "for i in range(1,10):\n",
        "  f =open('/content/drive/MyDrive/中興課程/2022高等資料/221123myNewDict/inv'+str(i)+'.json')\n",
        "  print(\"Load dict%d\" %i)\n",
        "  parser = ijson.parse(f)\n",
        "  objects = ijson.items(f, 'item')\n",
        "  tmpdict=dict(objects)\n",
        "  All_Inv_DICT[str(i)]=tmpdict"
      ],
      "metadata": {
        "id": "io4Kd_iOlZs_",
        "colab": {
          "base_uri": "https://localhost:8080/"
        },
        "outputId": "27abeea2-d5d8-424b-d353-2462187aa83e"
      },
      "execution_count": 4,
      "outputs": [
        {
          "output_type": "stream",
          "name": "stdout",
          "text": [
            "Load dict1\n",
            "Load dict2\n",
            "Load dict3\n",
            "Load dict4\n",
            "Load dict5\n",
            "Load dict6\n",
            "Load dict7\n",
            "Load dict8\n",
            "Load dict9\n"
          ]
        }
      ]
    },
    {
      "cell_type": "code",
      "source": [
        "!pip install udicOpenData"
      ],
      "metadata": {
        "id": "drsy9eXohCqc",
        "colab": {
          "base_uri": "https://localhost:8080/"
        },
        "outputId": "4b6856cf-fc64-447f-aa6e-0c242ff8adfd"
      },
      "execution_count": 5,
      "outputs": [
        {
          "output_type": "stream",
          "name": "stdout",
          "text": [
            "Looking in indexes: https://pypi.org/simple, https://us-python.pkg.dev/colab-wheels/public/simple/\n",
            "Collecting udicOpenData\n",
            "  Downloading udicOpenData-2.4.tar.gz (17.8 MB)\n",
            "\u001b[2K     \u001b[90m━━━━━━━━━━━━━━━━━━━━━━━━━━━━━━━━━━━━━━━━\u001b[0m \u001b[32m17.8/17.8 MB\u001b[0m \u001b[31m66.6 MB/s\u001b[0m eta \u001b[36m0:00:00\u001b[0m\n",
            "\u001b[?25h  Preparing metadata (setup.py) ... \u001b[?25l\u001b[?25hdone\n",
            "Requirement already satisfied: jieba in /usr/local/lib/python3.9/dist-packages (from udicOpenData) (0.42.1)\n",
            "Requirement already satisfied: nltk in /usr/local/lib/python3.9/dist-packages (from udicOpenData) (3.8.1)\n",
            "Requirement already satisfied: numpy in /usr/local/lib/python3.9/dist-packages (from udicOpenData) (1.22.4)\n",
            "Requirement already satisfied: click in /usr/local/lib/python3.9/dist-packages (from nltk->udicOpenData) (8.1.3)\n",
            "Requirement already satisfied: tqdm in /usr/local/lib/python3.9/dist-packages (from nltk->udicOpenData) (4.65.0)\n",
            "Requirement already satisfied: joblib in /usr/local/lib/python3.9/dist-packages (from nltk->udicOpenData) (1.1.1)\n",
            "Requirement already satisfied: regex>=2021.8.3 in /usr/local/lib/python3.9/dist-packages (from nltk->udicOpenData) (2022.10.31)\n",
            "Building wheels for collected packages: udicOpenData\n",
            "  Building wheel for udicOpenData (setup.py) ... \u001b[?25l\u001b[?25hdone\n",
            "  Created wheel for udicOpenData: filename=udicOpenData-2.4-py3-none-any.whl size=18094437 sha256=acd6cd3dd4833146de5b8764567cb2199362a1897eb062cff8cf5f5028599999\n",
            "  Stored in directory: /root/.cache/pip/wheels/ba/f2/22/6eb858b3809f7ba7956b83658fdc6e149ef9bc00291b3af8f2\n",
            "Successfully built udicOpenData\n",
            "Installing collected packages: udicOpenData\n",
            "Successfully installed udicOpenData-2.4\n"
          ]
        }
      ]
    },
    {
      "cell_type": "code",
      "source": [
        "from udicOpenData.dictionary import *\n",
        "from udicOpenData.stopwords import *"
      ],
      "metadata": {
        "id": "jo7bHicchIML",
        "colab": {
          "base_uri": "https://localhost:8080/"
        },
        "outputId": "772b47c1-5b86-4e26-a983-0a1ca204dfc6"
      },
      "execution_count": 6,
      "outputs": [
        {
          "output_type": "stream",
          "name": "stderr",
          "text": [
            "Building prefix dict from the default dictionary ...\n",
            "DEBUG:jieba:Building prefix dict from the default dictionary ...\n",
            "Dumping model to file cache /tmp/jieba.cache\n",
            "DEBUG:jieba:Dumping model to file cache /tmp/jieba.cache\n",
            "Loading model cost 0.868 seconds.\n",
            "DEBUG:jieba:Loading model cost 0.868 seconds.\n",
            "Prefix dict has been built successfully.\n",
            "DEBUG:jieba:Prefix dict has been built successfully.\n",
            "[nltk_data] Downloading package punkt to /root/nltk_data...\n",
            "[nltk_data]   Unzipping tokenizers/punkt.zip.\n",
            "[nltk_data] Downloading package averaged_perceptron_tagger to\n",
            "[nltk_data]     /root/nltk_data...\n",
            "[nltk_data]   Unzipping taggers/averaged_perceptron_tagger.zip.\n",
            "[nltk_data] Downloading package maxent_ne_chunker to\n",
            "[nltk_data]     /root/nltk_data...\n",
            "[nltk_data]   Unzipping chunkers/maxent_ne_chunker.zip.\n",
            "[nltk_data] Downloading package words to /root/nltk_data...\n",
            "[nltk_data]   Unzipping corpora/words.zip.\n",
            "[nltk_data] Downloading package wordnet to /root/nltk_data...\n"
          ]
        }
      ]
    },
    {
      "cell_type": "code",
      "source": [
        "import json\n",
        "\n",
        "questionpath = '/content/drive/MyDrive/中興課程/2022高等資料/questions_example.json'\n",
        "\n",
        "with open(questionpath, 'r', encoding='UTF-8') as f:\n",
        "\tJsonList = json.load(f)\n",
        "f.close()"
      ],
      "metadata": {
        "id": "Ui4-VpCK0mRd"
      },
      "execution_count": 7,
      "outputs": []
    },
    {
      "cell_type": "code",
      "source": [
        "with open('/content/drive/MyDrive/中興課程/2022高等資料/newwiki/wiki_wordcount.json', 'r', encoding='UTF-8') as f:\n",
        "  wwc = json.load(f)\n",
        "f.close()"
      ],
      "metadata": {
        "id": "WoOrbQrU2X56"
      },
      "execution_count": 8,
      "outputs": []
    },
    {
      "cell_type": "code",
      "source": [
        "for i in wwc:\n",
        "  if i[\"word\"] == \"老鷹\":\n",
        "    print(i[\"count\"])\n",
        "    break"
      ],
      "metadata": {
        "id": "5Ju-BiudOanC",
        "colab": {
          "base_uri": "https://localhost:8080/"
        },
        "outputId": "910975ce-0ce3-4ea1-8074-cc523c0df751"
      },
      "execution_count": 10,
      "outputs": [
        {
          "output_type": "stream",
          "name": "stdout",
          "text": [
            "520\n"
          ]
        }
      ]
    },
    {
      "cell_type": "code",
      "source": [
        "def intersection(lst1, lst2):\n",
        "    lst3 = [value for value in lst1 if value in lst2]\n",
        "    return lst3"
      ],
      "metadata": {
        "id": "fVWPMoshA3S1"
      },
      "execution_count": 11,
      "outputs": []
    },
    {
      "cell_type": "code",
      "source": [
        "import time"
      ],
      "metadata": {
        "id": "_W7hE0ZswVNF"
      },
      "execution_count": 12,
      "outputs": []
    },
    {
      "cell_type": "code",
      "source": [
        "listN = []\n",
        "s = \"波蘭奇幻小說作家安傑·薩普科夫斯基，其最出名的作品是?\"\n",
        "list(rmsw(s, flag=True))\n",
        "#[listN.append(tmp[0]) for tmp in aa if tmp[1].startswith(\"n\") and len(tmp[0])>1]\n",
        "#listN"
      ],
      "metadata": {
        "colab": {
          "base_uri": "https://localhost:8080/"
        },
        "id": "RuVbIhYk-30u",
        "outputId": "2c6a0b56-ff03-4727-8e4d-71f0ac380914"
      },
      "execution_count": 13,
      "outputs": [
        {
          "output_type": "execute_result",
          "data": {
            "text/plain": [
              "[('波蘭', 'n'),\n",
              " ('奇幻小說作家', 'n'),\n",
              " ('安傑', 'n'),\n",
              " ('薩普', 'n'),\n",
              " ('科夫斯基', 'nrt'),\n",
              " ('最', 'd'),\n",
              " ('出名', 'n'),\n",
              " ('作品', 'n')]"
            ]
          },
          "metadata": {},
          "execution_count": 13
        }
      ]
    },
    {
      "cell_type": "code",
      "source": [
        "def planB(final_options, All_Inv_DICT):\n",
        "  AllAns = []\n",
        "  for v in final_options:\n",
        "    vslice = []\n",
        "    listN=list(rmsw(v, flag=True))\n",
        "    [vslice.append(tmp[0]) for tmp in listN if tmp[1].startswith(\"n\") and len(tmp[0])>1]\n",
        "    nothingflag = 1\n",
        "    tempAns=[]\n",
        "    for v2 in vslice:\n",
        "\n",
        "      \n",
        "      \n",
        "      #iVLen=len(v)\n",
        "      #AllAns.append((v,[]))\n",
        "      #if v in All_Inv_DICT[str(iVLen)]:\n",
        "      for w in range(1,10):\n",
        "        if v2 in All_Inv_DICT[str(w)]:\n",
        "          #AllAns.remove((v,[]))\n",
        "          tempAns.extend((All_Inv_DICT[str(w)][v2]))\n",
        "          nothingflag = 0\n",
        "    if nothingflag == 1:\n",
        "      AllAns.append((v,[]))\n",
        "    else:\n",
        "      AllAns.append((v,set(tempAns)))\n",
        "      nothingflag=1\n",
        "  return AllAns"
      ],
      "metadata": {
        "id": "UnkTIT1Y5D6W"
      },
      "execution_count": 17,
      "outputs": []
    },
    {
      "cell_type": "code",
      "source": [
        "p = \"/content/drive/MyDrive/中興課程/2022高等資料/questions200.json\"\n",
        "f = open(p,\"r\",encoding='UTF-8')\n",
        "objects = ijson.items(f, 'item')\n",
        "i=1\n",
        "true_ans=[]\n",
        "\n",
        "for article in list(objects)[0:]:\n",
        "  true_ans.append(article[\"Answer : \"])\n"
      ],
      "metadata": {
        "id": "L6Tc1I3e3Q6y"
      },
      "execution_count": 41,
      "outputs": []
    },
    {
      "cell_type": "code",
      "source": [
        "with open(p, 'r', encoding='UTF-8') as f:\n",
        "\tJsonList = json.load(f)\n",
        "f.close()"
      ],
      "metadata": {
        "id": "t5JJKv4x3sbP"
      },
      "execution_count": 33,
      "outputs": []
    },
    {
      "cell_type": "code",
      "source": [
        "len(JsonList)"
      ],
      "metadata": {
        "colab": {
          "base_uri": "https://localhost:8080/"
        },
        "id": "6PaBz97eKEmV",
        "outputId": "741156b0-7e16-41a7-be9b-d281a6f3235a"
      },
      "execution_count": 34,
      "outputs": [
        {
          "output_type": "execute_result",
          "data": {
            "text/plain": [
              "200"
            ]
          },
          "metadata": {},
          "execution_count": 34
        }
      ]
    },
    {
      "cell_type": "code",
      "source": [
        "start_time = int(time.time())\n",
        "AnsJson = []\n",
        "for i in range(len(JsonList)):\n",
        "  #lista = keywords(JsonList[i]['Question'])\n",
        "  lista=list(rmsw(JsonList[i]['Question'], flag=True))\n",
        "\n",
        "  listN=[]\n",
        "  [listN.append(tmp[0]) for tmp in lista if tmp[1].startswith(\"n\") and len(tmp[0])>1]\n",
        "  AllQ=[]\n",
        "  AllAns=[]\n",
        "\n",
        "\n",
        "  Qtemp=[]\n",
        "  nothingflag = 1\n",
        "  for v in set(listN):\n",
        "    Qtemp=[]\n",
        "    for w in range(1,10):\n",
        "        if v in All_Inv_DICT[str(w)]:\n",
        "          Qtemp.extend(All_Inv_DICT[str(w)][v])\n",
        "          nothingflag = 0\n",
        "          #if len(All_Inv_DICT[str(iVLen)][v])>0:\n",
        "          #AllQ.append((v,All_Inv_DICT[str(w)][v]))\n",
        "    if nothingflag == 0:\n",
        "      AllQ.append((v,set(Qtemp)))\n",
        "      nothingflag = 1\n",
        "\n",
        "  final_options = [JsonList[i]['A'],JsonList[i]['B'],JsonList[i]['C']]\n",
        "\n",
        " \n",
        "  \n",
        "  tempAns=[]\n",
        "  nothingflag=1\n",
        "  for v in final_options:\n",
        "    nothingflag = 1\n",
        "    tempAns=[]\n",
        "    #iVLen=len(v)\n",
        "    #AllAns.append((v,[]))\n",
        "    #if v in All_Inv_DICT[str(iVLen)]:\n",
        "    for w in range(1,10):\n",
        "      if v in All_Inv_DICT[str(w)]:\n",
        "        #AllAns.remove((v,[]))\n",
        "        tempAns.extend((All_Inv_DICT[str(w)][v]))\n",
        "        nothingflag = 0\n",
        "    if nothingflag == 1:\n",
        "      AllAns.append((v,[]))\n",
        "    else:\n",
        "      AllAns.append((v,tempAns))\n",
        "      nothingflag=1\n",
        "  \n",
        "  if len(AllAns[0][1]) == len(AllAns[1][1]) == len(AllAns[2][1]) == 0:\n",
        "    AllAns = planB(final_options, All_Inv_DICT)\n",
        "\n",
        "  AlistCount = 0\n",
        "  BlistCount = 0\n",
        "  ClistCount = 0\n",
        "  for j in AllQ:\n",
        "    #print(sorted(set(list(i[1]))))\n",
        "    try:\n",
        "      AlistCount += len(intersection(AllAns[0][1],j[1])) / (len(AllAns[0][1])+len(j[1]))\n",
        "    except:\n",
        "      pass\n",
        "\n",
        "    try:\n",
        "      BlistCount += len(intersection(AllAns[1][1],j[1])) / (len(AllAns[1][1])+len(j[1]))\n",
        "    except:\n",
        "      pass\n",
        "\n",
        "    try:\n",
        "      ClistCount += len(intersection(AllAns[2][1],j[1])) / (len(AllAns[2][1])+len(j[1]))\n",
        "    except:\n",
        "      pass\n",
        "\n",
        "  result = max(AlistCount,BlistCount,ClistCount)\n",
        "\n",
        "  print(\"Q%d\" %int(i+1))\n",
        "  print(\"AlistC:%.4f    BlistC:%.4f   ClistC:%.4f\" %(AlistCount,BlistCount,ClistCount))\n",
        "  if(result == AlistCount):\n",
        "    print(\"A\")\n",
        "    AnsJson.append(\"A\")\n",
        "  elif(result == BlistCount):\n",
        "    print(\"B\")\n",
        "    AnsJson.append(\"B\")\n",
        "  else:\n",
        "    print(\"C\")\n",
        "    AnsJson.append(\"C\")\n",
        "\n",
        "  '''\n",
        "  print(\"true: %s\" %true_ans[i])\n",
        "  if true_ans[i] != AnsJson[-1]:\n",
        "    print(JsonList[i])\n",
        "  '''\n",
        "\n",
        "ele = int(time.time())-start_time\n",
        "print(AnsJson)\n",
        "print(\"共%d秒\" %ele)"
      ],
      "metadata": {
        "colab": {
          "base_uri": "https://localhost:8080/"
        },
        "id": "EgdeJjemA4YJ",
        "outputId": "833a2133-d7ac-43a6-854d-3716a68f9ca1"
      },
      "execution_count": 35,
      "outputs": [
        {
          "output_type": "stream",
          "name": "stdout",
          "text": [
            "Q1\n",
            "AlistC:0.1861    BlistC:0.6042   ClistC:0.0522\n",
            "B\n",
            "Q2\n",
            "AlistC:0.0000    BlistC:0.0000   ClistC:0.2691\n",
            "C\n",
            "Q3\n",
            "AlistC:0.0427    BlistC:0.2883   ClistC:0.0000\n",
            "B\n",
            "Q4\n",
            "AlistC:0.3656    BlistC:0.3472   ClistC:0.0915\n",
            "A\n",
            "Q5\n",
            "AlistC:0.0549    BlistC:0.0484   ClistC:0.1558\n",
            "C\n",
            "Q6\n",
            "AlistC:0.1738    BlistC:0.0749   ClistC:0.0061\n",
            "A\n",
            "Q7\n",
            "AlistC:0.0270    BlistC:0.0034   ClistC:0.0118\n",
            "A\n",
            "Q8\n",
            "AlistC:0.0394    BlistC:0.0182   ClistC:0.0959\n",
            "C\n",
            "Q9\n",
            "AlistC:0.0000    BlistC:0.0506   ClistC:0.0000\n",
            "B\n",
            "Q10\n",
            "AlistC:0.0568    BlistC:0.2711   ClistC:0.0539\n",
            "B\n",
            "Q11\n",
            "AlistC:0.1804    BlistC:0.0722   ClistC:0.0136\n",
            "A\n",
            "Q12\n",
            "AlistC:0.0655    BlistC:0.2668   ClistC:0.2829\n",
            "C\n",
            "Q13\n",
            "AlistC:0.0183    BlistC:0.1619   ClistC:0.2195\n",
            "C\n",
            "Q14\n",
            "AlistC:0.0078    BlistC:0.4133   ClistC:0.0000\n",
            "B\n",
            "Q15\n",
            "AlistC:0.0008    BlistC:0.0000   ClistC:0.0000\n",
            "A\n",
            "Q16\n",
            "AlistC:0.0000    BlistC:0.3414   ClistC:0.0026\n",
            "B\n",
            "Q17\n",
            "AlistC:0.2993    BlistC:0.0000   ClistC:0.0000\n",
            "A\n",
            "Q18\n",
            "AlistC:0.0009    BlistC:0.0015   ClistC:1.3778\n",
            "C\n",
            "Q19\n",
            "AlistC:0.0000    BlistC:0.1293   ClistC:0.0034\n",
            "B\n",
            "Q20\n",
            "AlistC:0.0000    BlistC:0.1654   ClistC:0.0000\n",
            "B\n",
            "Q21\n",
            "AlistC:0.0000    BlistC:0.0000   ClistC:1.2500\n",
            "C\n",
            "Q22\n",
            "AlistC:0.3858    BlistC:0.0004   ClistC:0.0000\n",
            "A\n",
            "Q23\n",
            "AlistC:0.0007    BlistC:0.1095   ClistC:0.7255\n",
            "C\n",
            "Q24\n",
            "AlistC:0.0077    BlistC:0.0000   ClistC:0.0017\n",
            "A\n",
            "Q25\n",
            "AlistC:0.1727    BlistC:0.0000   ClistC:0.0004\n",
            "A\n",
            "Q26\n",
            "AlistC:0.0019    BlistC:0.0000   ClistC:0.1764\n",
            "C\n",
            "Q27\n",
            "AlistC:0.1096    BlistC:0.2128   ClistC:0.0847\n",
            "B\n",
            "Q28\n",
            "AlistC:0.0208    BlistC:0.0048   ClistC:0.0363\n",
            "C\n",
            "Q29\n",
            "AlistC:0.1769    BlistC:0.0074   ClistC:0.0005\n",
            "A\n",
            "Q30\n",
            "AlistC:0.1090    BlistC:0.1909   ClistC:0.0002\n",
            "B\n",
            "Q31\n",
            "AlistC:0.0617    BlistC:0.0385   ClistC:0.3215\n",
            "C\n",
            "Q32\n",
            "AlistC:0.6091    BlistC:0.0000   ClistC:0.2166\n",
            "A\n",
            "Q33\n",
            "AlistC:0.0000    BlistC:0.0000   ClistC:0.8842\n",
            "C\n",
            "Q34\n",
            "AlistC:0.0034    BlistC:0.0308   ClistC:0.5607\n",
            "C\n",
            "Q35\n",
            "AlistC:0.3677    BlistC:0.0008   ClistC:0.0000\n",
            "A\n",
            "Q36\n",
            "AlistC:0.1777    BlistC:0.6676   ClistC:0.0014\n",
            "B\n",
            "Q37\n",
            "AlistC:0.1462    BlistC:0.0017   ClistC:0.1267\n",
            "A\n",
            "Q38\n",
            "AlistC:0.0007    BlistC:0.0151   ClistC:0.4655\n",
            "C\n",
            "Q39\n",
            "AlistC:0.0000    BlistC:1.6681   ClistC:0.0000\n",
            "B\n",
            "Q40\n",
            "AlistC:1.7381    BlistC:0.0000   ClistC:0.0037\n",
            "A\n",
            "Q41\n",
            "AlistC:0.0000    BlistC:1.2517   ClistC:0.0924\n",
            "B\n",
            "Q42\n",
            "AlistC:0.0000    BlistC:0.0141   ClistC:0.3902\n",
            "C\n",
            "Q43\n",
            "AlistC:0.1338    BlistC:0.0000   ClistC:0.0000\n",
            "A\n",
            "Q44\n",
            "AlistC:0.0000    BlistC:1.0632   ClistC:0.0227\n",
            "B\n",
            "Q45\n",
            "AlistC:0.0928    BlistC:0.0000   ClistC:0.0000\n",
            "A\n",
            "Q46\n",
            "AlistC:0.0018    BlistC:0.0001   ClistC:0.3117\n",
            "C\n",
            "Q47\n",
            "AlistC:0.8380    BlistC:0.0000   ClistC:0.0004\n",
            "A\n",
            "Q48\n",
            "AlistC:0.0000    BlistC:2.0148   ClistC:0.0000\n",
            "B\n",
            "Q49\n",
            "AlistC:0.8951    BlistC:0.1892   ClistC:0.1432\n",
            "A\n",
            "Q50\n",
            "AlistC:0.0869    BlistC:0.0365   ClistC:0.0595\n",
            "A\n",
            "Q51\n",
            "AlistC:0.0198    BlistC:0.2261   ClistC:0.0419\n",
            "B\n",
            "Q52\n",
            "AlistC:0.0160    BlistC:0.0282   ClistC:0.0057\n",
            "B\n",
            "Q53\n",
            "AlistC:0.1374    BlistC:0.3794   ClistC:0.2859\n",
            "B\n",
            "Q54\n",
            "AlistC:0.1731    BlistC:0.0544   ClistC:0.3648\n",
            "C\n",
            "Q55\n",
            "AlistC:0.2005    BlistC:0.0767   ClistC:0.8875\n",
            "C\n",
            "Q56\n",
            "AlistC:0.0005    BlistC:0.5398   ClistC:0.0072\n",
            "B\n",
            "Q57\n",
            "AlistC:0.0008    BlistC:1.0121   ClistC:0.0051\n",
            "B\n",
            "Q58\n",
            "AlistC:0.0235    BlistC:0.0389   ClistC:0.0122\n",
            "B\n",
            "Q59\n",
            "AlistC:0.0684    BlistC:0.4343   ClistC:0.0000\n",
            "B\n",
            "Q60\n",
            "AlistC:0.0181    BlistC:0.0563   ClistC:0.0451\n",
            "B\n",
            "Q61\n",
            "AlistC:0.1796    BlistC:0.2242   ClistC:0.0974\n",
            "B\n",
            "Q62\n",
            "AlistC:0.0089    BlistC:0.2105   ClistC:0.0868\n",
            "B\n",
            "Q63\n",
            "AlistC:0.0363    BlistC:0.0828   ClistC:0.1005\n",
            "C\n",
            "Q64\n",
            "AlistC:0.0000    BlistC:0.0000   ClistC:0.3810\n",
            "C\n",
            "Q65\n",
            "AlistC:0.0000    BlistC:0.0000   ClistC:0.4512\n",
            "C\n",
            "Q66\n",
            "AlistC:0.3941    BlistC:0.2131   ClistC:0.4059\n",
            "C\n",
            "Q67\n",
            "AlistC:0.0860    BlistC:0.8023   ClistC:0.1008\n",
            "B\n",
            "Q68\n",
            "AlistC:0.1731    BlistC:0.0000   ClistC:0.3855\n",
            "C\n",
            "Q69\n",
            "AlistC:0.0000    BlistC:0.0067   ClistC:0.0442\n",
            "C\n",
            "Q70\n",
            "AlistC:0.2075    BlistC:0.0349   ClistC:0.0453\n",
            "A\n",
            "Q71\n",
            "AlistC:0.0153    BlistC:0.4284   ClistC:0.0475\n",
            "B\n",
            "Q72\n",
            "AlistC:0.0048    BlistC:0.1799   ClistC:0.1180\n",
            "B\n",
            "Q73\n",
            "AlistC:0.0144    BlistC:0.0685   ClistC:0.0000\n",
            "B\n",
            "Q74\n",
            "AlistC:0.0149    BlistC:0.0254   ClistC:0.1455\n",
            "C\n",
            "Q75\n",
            "AlistC:0.0303    BlistC:0.0314   ClistC:0.0000\n",
            "B\n",
            "Q76\n",
            "AlistC:0.2530    BlistC:0.2602   ClistC:0.2598\n",
            "B\n",
            "Q77\n",
            "AlistC:0.0000    BlistC:0.2346   ClistC:0.0048\n",
            "B\n",
            "Q78\n",
            "AlistC:0.0000    BlistC:0.0010   ClistC:0.0174\n",
            "C\n",
            "Q79\n",
            "AlistC:0.0000    BlistC:0.5356   ClistC:0.0000\n",
            "B\n",
            "Q80\n",
            "AlistC:0.0035    BlistC:0.0071   ClistC:1.8183\n",
            "C\n",
            "Q81\n",
            "AlistC:0.9428    BlistC:0.0068   ClistC:0.0056\n",
            "A\n",
            "Q82\n",
            "AlistC:0.7411    BlistC:0.0000   ClistC:0.0000\n",
            "A\n",
            "Q83\n",
            "AlistC:0.0000    BlistC:0.2313   ClistC:0.0000\n",
            "B\n",
            "Q84\n",
            "AlistC:0.3986    BlistC:0.0081   ClistC:0.0000\n",
            "A\n",
            "Q85\n",
            "AlistC:0.0160    BlistC:0.1119   ClistC:0.1578\n",
            "C\n",
            "Q86\n",
            "AlistC:0.1257    BlistC:0.0000   ClistC:0.0672\n",
            "A\n",
            "Q87\n",
            "AlistC:0.0000    BlistC:0.0000   ClistC:0.0000\n",
            "A\n",
            "Q88\n",
            "AlistC:0.0000    BlistC:0.0000   ClistC:0.0254\n",
            "C\n",
            "Q89\n",
            "AlistC:0.0605    BlistC:0.0028   ClistC:0.0100\n",
            "A\n",
            "Q90\n",
            "AlistC:0.0099    BlistC:0.0296   ClistC:0.2850\n",
            "C\n",
            "Q91\n",
            "AlistC:0.0433    BlistC:0.9605   ClistC:0.0000\n",
            "B\n",
            "Q92\n",
            "AlistC:0.0000    BlistC:0.0000   ClistC:1.3964\n",
            "C\n",
            "Q93\n",
            "AlistC:0.3633    BlistC:0.0000   ClistC:0.1288\n",
            "A\n",
            "Q94\n",
            "AlistC:1.3358    BlistC:0.0009   ClistC:0.0000\n",
            "A\n",
            "Q95\n",
            "AlistC:0.0003    BlistC:0.1506   ClistC:0.0000\n",
            "B\n",
            "Q96\n",
            "AlistC:0.2519    BlistC:0.2148   ClistC:0.1777\n",
            "A\n",
            "Q97\n",
            "AlistC:0.1431    BlistC:0.0002   ClistC:0.0010\n",
            "A\n",
            "Q98\n",
            "AlistC:0.0000    BlistC:0.0000   ClistC:0.0073\n",
            "C\n",
            "Q99\n",
            "AlistC:0.0001    BlistC:0.1831   ClistC:0.0063\n",
            "B\n",
            "Q100\n",
            "AlistC:0.0561    BlistC:0.1417   ClistC:0.0000\n",
            "B\n",
            "Q101\n",
            "AlistC:0.0001    BlistC:0.0000   ClistC:0.5558\n",
            "C\n",
            "Q102\n",
            "AlistC:0.0307    BlistC:0.0140   ClistC:0.0090\n",
            "A\n",
            "Q103\n",
            "AlistC:0.0000    BlistC:1.7746   ClistC:0.0001\n",
            "B\n",
            "Q104\n",
            "AlistC:0.0154    BlistC:0.6614   ClistC:0.0005\n",
            "B\n",
            "Q105\n",
            "AlistC:0.1052    BlistC:0.0000   ClistC:0.0000\n",
            "A\n",
            "Q106\n",
            "AlistC:0.7273    BlistC:0.0002   ClistC:0.0001\n",
            "A\n",
            "Q107\n",
            "AlistC:0.0000    BlistC:0.0165   ClistC:1.0385\n",
            "C\n",
            "Q108\n",
            "AlistC:0.0072    BlistC:0.0000   ClistC:0.0350\n",
            "C\n",
            "Q109\n",
            "AlistC:0.1491    BlistC:0.3803   ClistC:0.0070\n",
            "B\n",
            "Q110\n",
            "AlistC:0.8870    BlistC:0.0000   ClistC:0.0000\n",
            "A\n",
            "Q111\n",
            "AlistC:0.0000    BlistC:0.0002   ClistC:0.0000\n",
            "B\n",
            "Q112\n",
            "AlistC:0.0002    BlistC:0.4291   ClistC:0.0000\n",
            "B\n",
            "Q113\n",
            "AlistC:0.1194    BlistC:0.5013   ClistC:0.1023\n",
            "B\n",
            "Q114\n",
            "AlistC:0.2184    BlistC:0.9281   ClistC:0.0000\n",
            "B\n",
            "Q115\n",
            "AlistC:1.6629    BlistC:0.0001   ClistC:0.0000\n",
            "A\n",
            "Q116\n",
            "AlistC:0.4718    BlistC:0.0000   ClistC:0.0000\n",
            "A\n",
            "Q117\n",
            "AlistC:2.2485    BlistC:0.0000   ClistC:0.0531\n",
            "A\n",
            "Q118\n",
            "AlistC:0.0000    BlistC:0.0000   ClistC:3.3506\n",
            "C\n",
            "Q119\n",
            "AlistC:0.0000    BlistC:0.3656   ClistC:0.0000\n",
            "B\n",
            "Q120\n",
            "AlistC:0.0161    BlistC:0.1097   ClistC:0.0141\n",
            "B\n",
            "Q121\n",
            "AlistC:0.2031    BlistC:1.0171   ClistC:0.0146\n",
            "B\n",
            "Q122\n",
            "AlistC:0.1594    BlistC:0.4467   ClistC:0.0208\n",
            "B\n",
            "Q123\n",
            "AlistC:0.6840    BlistC:0.0384   ClistC:0.0000\n",
            "A\n",
            "Q124\n",
            "AlistC:0.0842    BlistC:0.0119   ClistC:0.8264\n",
            "C\n",
            "Q125\n",
            "AlistC:0.0000    BlistC:0.0000   ClistC:0.4310\n",
            "C\n",
            "Q126\n",
            "AlistC:1.2233    BlistC:0.0000   ClistC:0.0869\n",
            "A\n",
            "Q127\n",
            "AlistC:0.2918    BlistC:0.5457   ClistC:0.1757\n",
            "B\n",
            "Q128\n",
            "AlistC:0.1576    BlistC:0.0000   ClistC:1.1815\n",
            "C\n",
            "Q129\n",
            "AlistC:0.1237    BlistC:1.9890   ClistC:0.0675\n",
            "B\n",
            "Q130\n",
            "AlistC:0.3036    BlistC:0.0037   ClistC:0.0596\n",
            "A\n",
            "Q131\n",
            "AlistC:0.5797    BlistC:0.1595   ClistC:0.1270\n",
            "A\n",
            "Q132\n",
            "AlistC:0.0000    BlistC:2.8879   ClistC:0.0007\n",
            "B\n",
            "Q133\n",
            "AlistC:0.0232    BlistC:0.0151   ClistC:0.0000\n",
            "A\n",
            "Q134\n",
            "AlistC:0.0573    BlistC:0.0059   ClistC:1.2411\n",
            "C\n",
            "Q135\n",
            "AlistC:0.1517    BlistC:0.0667   ClistC:0.9240\n",
            "C\n",
            "Q136\n",
            "AlistC:0.0000    BlistC:0.3017   ClistC:0.0000\n",
            "B\n",
            "Q137\n",
            "AlistC:1.4002    BlistC:0.0000   ClistC:0.0095\n",
            "A\n",
            "Q138\n",
            "AlistC:0.1098    BlistC:0.2672   ClistC:0.0010\n",
            "B\n",
            "Q139\n",
            "AlistC:0.0570    BlistC:0.0000   ClistC:1.3080\n",
            "C\n",
            "Q140\n",
            "AlistC:0.8055    BlistC:0.2363   ClistC:0.0123\n",
            "A\n",
            "Q141\n",
            "AlistC:1.2209    BlistC:0.2519   ClistC:0.1464\n",
            "A\n",
            "Q142\n",
            "AlistC:0.0217    BlistC:0.0802   ClistC:0.4726\n",
            "C\n",
            "Q143\n",
            "AlistC:0.0983    BlistC:0.0000   ClistC:0.0000\n",
            "A\n",
            "Q144\n",
            "AlistC:0.2186    BlistC:0.0000   ClistC:0.0000\n",
            "A\n",
            "Q145\n",
            "AlistC:0.0703    BlistC:2.8343   ClistC:0.0025\n",
            "B\n",
            "Q146\n",
            "AlistC:0.0683    BlistC:0.0120   ClistC:1.2094\n",
            "C\n",
            "Q147\n",
            "AlistC:0.0000    BlistC:1.5946   ClistC:0.3725\n",
            "B\n",
            "Q148\n",
            "AlistC:1.3984    BlistC:0.0000   ClistC:0.0000\n",
            "A\n",
            "Q149\n",
            "AlistC:1.7408    BlistC:0.0165   ClistC:0.0265\n",
            "A\n",
            "Q150\n",
            "AlistC:0.2795    BlistC:0.8267   ClistC:1.8570\n",
            "C\n",
            "Q151\n",
            "AlistC:3.3495    BlistC:0.6394   ClistC:0.3364\n",
            "A\n",
            "Q152\n",
            "AlistC:1.9445    BlistC:1.0521   ClistC:0.5188\n",
            "A\n",
            "Q153\n",
            "AlistC:0.2172    BlistC:1.3204   ClistC:0.5433\n",
            "B\n",
            "Q154\n",
            "AlistC:0.8482    BlistC:0.8365   ClistC:0.2827\n",
            "A\n",
            "Q155\n",
            "AlistC:0.2939    BlistC:0.6532   ClistC:0.1915\n",
            "B\n",
            "Q156\n",
            "AlistC:0.4986    BlistC:0.0101   ClistC:0.0005\n",
            "A\n",
            "Q157\n",
            "AlistC:0.2512    BlistC:0.0675   ClistC:0.0000\n",
            "A\n",
            "Q158\n",
            "AlistC:0.0011    BlistC:1.3552   ClistC:0.6048\n",
            "B\n",
            "Q159\n",
            "AlistC:0.1342    BlistC:0.1026   ClistC:0.5706\n",
            "C\n",
            "Q160\n",
            "AlistC:1.2502    BlistC:0.2709   ClistC:0.1856\n",
            "A\n",
            "Q161\n",
            "AlistC:3.7299    BlistC:0.2262   ClistC:0.8340\n",
            "A\n",
            "Q162\n",
            "AlistC:0.0761    BlistC:0.5941   ClistC:0.2968\n",
            "B\n",
            "Q163\n",
            "AlistC:1.2681    BlistC:0.0004   ClistC:0.0002\n",
            "A\n",
            "Q164\n",
            "AlistC:0.2705    BlistC:0.0585   ClistC:0.4784\n",
            "C\n",
            "Q165\n",
            "AlistC:0.9169    BlistC:0.2421   ClistC:0.2407\n",
            "A\n",
            "Q166\n",
            "AlistC:1.4592    BlistC:0.0000   ClistC:0.7295\n",
            "A\n",
            "Q167\n",
            "AlistC:1.5802    BlistC:1.6789   ClistC:0.0026\n",
            "B\n",
            "Q168\n",
            "AlistC:1.2281    BlistC:0.1318   ClistC:0.0929\n",
            "A\n",
            "Q169\n",
            "AlistC:0.0117    BlistC:0.0547   ClistC:1.3518\n",
            "C\n",
            "Q170\n",
            "AlistC:0.7883    BlistC:0.5313   ClistC:0.4471\n",
            "A\n",
            "Q171\n",
            "AlistC:0.0849    BlistC:0.2274   ClistC:0.6045\n",
            "C\n",
            "Q172\n",
            "AlistC:0.0542    BlistC:0.0144   ClistC:0.2089\n",
            "C\n",
            "Q173\n",
            "AlistC:0.3223    BlistC:0.1456   ClistC:0.0000\n",
            "A\n",
            "Q174\n",
            "AlistC:0.1013    BlistC:0.0000   ClistC:0.2410\n",
            "C\n",
            "Q175\n",
            "AlistC:1.7801    BlistC:0.0680   ClistC:0.4368\n",
            "A\n",
            "Q176\n",
            "AlistC:0.0468    BlistC:0.0000   ClistC:0.1613\n",
            "C\n",
            "Q177\n",
            "AlistC:0.0873    BlistC:0.3869   ClistC:0.1481\n",
            "B\n",
            "Q178\n",
            "AlistC:0.0185    BlistC:0.0000   ClistC:0.9808\n",
            "C\n",
            "Q179\n",
            "AlistC:0.9295    BlistC:0.0000   ClistC:0.0021\n",
            "A\n",
            "Q180\n",
            "AlistC:0.3328    BlistC:1.7437   ClistC:0.3014\n",
            "B\n",
            "Q181\n",
            "AlistC:1.3310    BlistC:0.2802   ClistC:0.2321\n",
            "A\n",
            "Q182\n",
            "AlistC:0.0525    BlistC:0.4205   ClistC:1.1286\n",
            "C\n",
            "Q183\n",
            "AlistC:0.3981    BlistC:0.4199   ClistC:0.4293\n",
            "C\n",
            "Q184\n",
            "AlistC:1.8006    BlistC:0.0748   ClistC:0.0001\n",
            "A\n",
            "Q185\n",
            "AlistC:0.1177    BlistC:0.2400   ClistC:0.7808\n",
            "C\n",
            "Q186\n",
            "AlistC:2.2283    BlistC:0.0000   ClistC:0.0222\n",
            "A\n",
            "Q187\n",
            "AlistC:1.1513    BlistC:0.0000   ClistC:0.4709\n",
            "A\n",
            "Q188\n",
            "AlistC:0.8201    BlistC:0.3273   ClistC:0.1300\n",
            "A\n",
            "Q189\n",
            "AlistC:0.0470    BlistC:2.2528   ClistC:0.2967\n",
            "B\n",
            "Q190\n",
            "AlistC:0.3004    BlistC:0.8046   ClistC:0.0000\n",
            "B\n",
            "Q191\n",
            "AlistC:0.1307    BlistC:3.0007   ClistC:0.5580\n",
            "B\n",
            "Q192\n",
            "AlistC:0.0204    BlistC:0.0000   ClistC:1.2440\n",
            "C\n",
            "Q193\n",
            "AlistC:0.0000    BlistC:0.0164   ClistC:1.5110\n",
            "C\n",
            "Q194\n",
            "AlistC:3.2055    BlistC:0.0053   ClistC:0.0000\n",
            "A\n",
            "Q195\n",
            "AlistC:0.4919    BlistC:0.1246   ClistC:0.1471\n",
            "A\n",
            "Q196\n",
            "AlistC:0.3033    BlistC:2.0417   ClistC:0.0916\n",
            "B\n",
            "Q197\n",
            "AlistC:0.0588    BlistC:0.4985   ClistC:0.0625\n",
            "B\n",
            "Q198\n",
            "AlistC:0.2823    BlistC:2.0035   ClistC:0.0900\n",
            "B\n",
            "Q199\n",
            "AlistC:0.0000    BlistC:1.1652   ClistC:0.1033\n",
            "B\n",
            "Q200\n",
            "AlistC:0.0529    BlistC:1.0018   ClistC:0.0193\n",
            "B\n",
            "['B', 'C', 'B', 'A', 'C', 'A', 'A', 'C', 'B', 'B', 'A', 'C', 'C', 'B', 'A', 'B', 'A', 'C', 'B', 'B', 'C', 'A', 'C', 'A', 'A', 'C', 'B', 'C', 'A', 'B', 'C', 'A', 'C', 'C', 'A', 'B', 'A', 'C', 'B', 'A', 'B', 'C', 'A', 'B', 'A', 'C', 'A', 'B', 'A', 'A', 'B', 'B', 'B', 'C', 'C', 'B', 'B', 'B', 'B', 'B', 'B', 'B', 'C', 'C', 'C', 'C', 'B', 'C', 'C', 'A', 'B', 'B', 'B', 'C', 'B', 'B', 'B', 'C', 'B', 'C', 'A', 'A', 'B', 'A', 'C', 'A', 'A', 'C', 'A', 'C', 'B', 'C', 'A', 'A', 'B', 'A', 'A', 'C', 'B', 'B', 'C', 'A', 'B', 'B', 'A', 'A', 'C', 'C', 'B', 'A', 'B', 'B', 'B', 'B', 'A', 'A', 'A', 'C', 'B', 'B', 'B', 'B', 'A', 'C', 'C', 'A', 'B', 'C', 'B', 'A', 'A', 'B', 'A', 'C', 'C', 'B', 'A', 'B', 'C', 'A', 'A', 'C', 'A', 'A', 'B', 'C', 'B', 'A', 'A', 'C', 'A', 'A', 'B', 'A', 'B', 'A', 'A', 'B', 'C', 'A', 'A', 'B', 'A', 'C', 'A', 'A', 'B', 'A', 'C', 'A', 'C', 'C', 'A', 'C', 'A', 'C', 'B', 'C', 'A', 'B', 'A', 'C', 'C', 'A', 'C', 'A', 'A', 'A', 'B', 'B', 'B', 'C', 'C', 'A', 'A', 'B', 'B', 'B', 'B', 'B']\n",
            "共6秒\n"
          ]
        }
      ]
    },
    {
      "cell_type": "code",
      "source": [
        "print(json.dumps(AnsJson))\n",
        "print(\"\\n\")"
      ],
      "metadata": {
        "colab": {
          "base_uri": "https://localhost:8080/"
        },
        "id": "RkO0QL5NHrxh",
        "outputId": "085fbf95-b860-46dd-8068-eabbdf1bb69d"
      },
      "execution_count": 36,
      "outputs": [
        {
          "output_type": "stream",
          "name": "stdout",
          "text": [
            "[\"B\", \"C\", \"B\", \"A\", \"C\", \"A\", \"A\", \"C\", \"B\", \"B\", \"A\", \"C\", \"C\", \"B\", \"A\", \"B\", \"A\", \"C\", \"B\", \"B\", \"C\", \"A\", \"C\", \"A\", \"A\", \"C\", \"B\", \"C\", \"A\", \"B\", \"C\", \"A\", \"C\", \"C\", \"A\", \"B\", \"A\", \"C\", \"B\", \"A\", \"B\", \"C\", \"A\", \"B\", \"A\", \"C\", \"A\", \"B\", \"A\", \"A\", \"B\", \"B\", \"B\", \"C\", \"C\", \"B\", \"B\", \"B\", \"B\", \"B\", \"B\", \"B\", \"C\", \"C\", \"C\", \"C\", \"B\", \"C\", \"C\", \"A\", \"B\", \"B\", \"B\", \"C\", \"B\", \"B\", \"B\", \"C\", \"B\", \"C\", \"A\", \"A\", \"B\", \"A\", \"C\", \"A\", \"A\", \"C\", \"A\", \"C\", \"B\", \"C\", \"A\", \"A\", \"B\", \"A\", \"A\", \"C\", \"B\", \"B\", \"C\", \"A\", \"B\", \"B\", \"A\", \"A\", \"C\", \"C\", \"B\", \"A\", \"B\", \"B\", \"B\", \"B\", \"A\", \"A\", \"A\", \"C\", \"B\", \"B\", \"B\", \"B\", \"A\", \"C\", \"C\", \"A\", \"B\", \"C\", \"B\", \"A\", \"A\", \"B\", \"A\", \"C\", \"C\", \"B\", \"A\", \"B\", \"C\", \"A\", \"A\", \"C\", \"A\", \"A\", \"B\", \"C\", \"B\", \"A\", \"A\", \"C\", \"A\", \"A\", \"B\", \"A\", \"B\", \"A\", \"A\", \"B\", \"C\", \"A\", \"A\", \"B\", \"A\", \"C\", \"A\", \"A\", \"B\", \"A\", \"C\", \"A\", \"C\", \"C\", \"A\", \"C\", \"A\", \"C\", \"B\", \"C\", \"A\", \"B\", \"A\", \"C\", \"C\", \"A\", \"C\", \"A\", \"A\", \"A\", \"B\", \"B\", \"B\", \"C\", \"C\", \"A\", \"A\", \"B\", \"B\", \"B\", \"B\", \"B\"]\n",
            "\n",
            "\n"
          ]
        }
      ]
    },
    {
      "cell_type": "code",
      "source": [
        "#changeAns(AnsJson, 'B', 187)"
      ],
      "metadata": {
        "id": "ieJTdClsE-5G"
      },
      "execution_count": null,
      "outputs": []
    },
    {
      "cell_type": "code",
      "source": [
        "#組員計算結果\n",
        "ph = ['B', 'C', 'B', 'A', 'C', 'A', 'C', 'C', 'A', 'B', 'A', 'C', 'C', 'B', 'A', 'B', 'A', 'C', 'B', 'B', 'C', 'A', 'C', 'A', 'A', 'C', 'B', 'C', 'A', 'B', 'C', 'A', 'C', 'C', 'A', 'B', 'A', 'C', 'B', 'A', 'B', 'C', 'A', 'B', 'A', 'C', 'A', 'B', 'A', 'C', 'B', 'B', 'B', 'C', 'C', 'B', 'B', 'B', 'A', 'B', 'A', 'B', 'B', 'A', 'C', 'C', 'B', 'C', '下列何者為巴洛克建築?', 'A', 'B', 'C', 'B', 'C', 'B', 'B', 'B', 'A', 'B', 'C', 'A', 'A', 'B', 'A', 'C', 'C', 'B', 'C', 'A', 'C', 'B', 'C', 'A', 'A', 'B', 'A', 'A', 'C', 'B', 'C', 'C', 'A', 'B', 'B', 'A', 'A', 'C', '貓膩原名曉峰，2005年開始創作小說《朱', 'B', 'A', 'A', 'B', 'B', 'B', 'A', 'A', 'A', 'C', 'B', 'A', 'B', 'B', 'A', 'C', 'C', 'A', 'B', 'C', 'B', 'A', 'A', 'B', 'B', 'C', 'C', 'B', 'A', 'B', 'C', 'A', 'A', 'C', 'A', 'A', 'B', 'C', 'B', 'A', 'A', 'C', 'A', 'A', 'B', 'A', 'B', 'A', 'C', 'B', 'C', 'A', 'A', 'B', 'A', 'C', 'A', 'A', 'B', 'A', 'C', 'A', 'C', 'C', 'A', 'B', 'A', 'C', 'B', 'C', 'A', 'B', 'A', 'C', 'B', 'A', 'C', 'A', 'B', 'A', 'B', 'B', 'B', 'C', 'C', 'A', 'A', 'B', 'B', 'B', 'B', 'B']\n",
        "for i in range(0,200):\n",
        "  if len(ph[i]) > 1:\n",
        "    ph[i] = AnsJson[i]"
      ],
      "metadata": {
        "id": "9ReDUVHVRnJ5"
      },
      "execution_count": 39,
      "outputs": []
    },
    {
      "cell_type": "code",
      "source": [
        "score = 0\n",
        "for i in range(0,200):\n",
        "  if(ph[i]==true_ans[i]):\n",
        "    score += 1\n",
        "\n",
        "score\n",
        "#200題對了194題"
      ],
      "metadata": {
        "id": "Vfk15-C84KMl",
        "colab": {
          "base_uri": "https://localhost:8080/"
        },
        "outputId": "74414ab8-8e04-409f-b1e5-5268a01ce32e"
      },
      "execution_count": 42,
      "outputs": [
        {
          "output_type": "execute_result",
          "data": {
            "text/plain": [
              "194"
            ]
          },
          "metadata": {},
          "execution_count": 42
        }
      ]
    },
    {
      "cell_type": "code",
      "source": [
        "def changeAns(AnsJson, correctAns, ansIdx):\n",
        "  AnsJson[ansIdx-1] = correctAns\n",
        "  return AnsJson"
      ],
      "metadata": {
        "id": "ch8NIkbJ0jDl"
      },
      "execution_count": null,
      "outputs": []
    },
    {
      "cell_type": "code",
      "source": [
        "print(ph)\n",
        "print(\"\\n\")"
      ],
      "metadata": {
        "id": "rv32aEymuP4n"
      },
      "execution_count": null,
      "outputs": []
    },
    {
      "cell_type": "code",
      "source": [
        "for i in range(0,200):\n",
        "  if(ph[i]!=AnsJson[i]):\n",
        "    print(i+1)"
      ],
      "metadata": {
        "id": "nJWeRxbKvaXx"
      },
      "execution_count": null,
      "outputs": []
    }
  ]
}